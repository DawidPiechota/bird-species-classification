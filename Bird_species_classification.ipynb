{
  "nbformat": 4,
  "nbformat_minor": 0,
  "metadata": {
    "colab": {
      "name": "Bird_species_classification.ipynb",
      "provenance": [],
      "collapsed_sections": [
        "ZyqBGMLT6_RK",
        "r1gyZYCP7NAn",
        "nAiGIQ-QHyKm",
        "Ed9Sjnc58gqN",
        "cINBfsWfha1C",
        "FDhpAkPHhdWj",
        "p_QHGKoiklw1"
      ],
      "toc_visible": true
    },
    "kernelspec": {
      "name": "python3",
      "display_name": "Python 3"
    },
    "language_info": {
      "name": "python"
    },
    "accelerator": "GPU"
  },
  "cells": [
    {
      "cell_type": "markdown",
      "metadata": {
        "id": "ZyqBGMLT6_RK"
      },
      "source": [
        "# Packages import, dir creation, log functions"
      ]
    },
    {
      "cell_type": "code",
      "metadata": {
        "id": "4GNPL7a5521Q",
        "colab": {
          "base_uri": "https://localhost:8080/"
        },
        "outputId": "6014fb81-8e32-468a-8e0e-a29c3b568a55"
      },
      "source": [
        "# import packages\n",
        "import os\n",
        "import csv\n",
        "import random\n",
        "import tarfile\n",
        "import multiprocessing as mp\n",
        "\n",
        "import tqdm\n",
        "import requests\n",
        "\n",
        "import numpy as np\n",
        "import sklearn.model_selection as skms\n",
        "\n",
        "import torch\n",
        "import torch.utils.data as td\n",
        "import torch.nn.functional as F\n",
        "\n",
        "import torchvision as tv\n",
        "import torchvision.transforms.functional as TF\n",
        "\n",
        "import matplotlib as mpl\n",
        "import matplotlib.pyplot as plt\n",
        "import matplotlib.image as mpimg\n",
        "\n",
        "\n",
        "# define constants\n",
        "DEVICE = 'cuda' if torch.cuda.is_available() else 'cpu'\n",
        "print(DEVICE)\n",
        "OUT_DIR = 'results'\n",
        "RANDOM_SEED = 42\n",
        "\n",
        "# create an output folder\n",
        "os.makedirs(OUT_DIR, exist_ok=True)\n",
        "\n",
        "\n",
        "def get_model_desc(pretrained=False, num_classes=200, use_attention=False):\n",
        "    \"\"\"\n",
        "    Generates description string.  \n",
        "    \"\"\"\n",
        "    desc = list()\n",
        "\n",
        "    if pretrained:\n",
        "        desc.append('Transfer')\n",
        "    else:\n",
        "        desc.append('Baseline')\n",
        "\n",
        "    if num_classes == 204:\n",
        "        desc.append('Multitask')\n",
        "\n",
        "    if use_attention:\n",
        "        desc.append('Attention')\n",
        "\n",
        "    return '-'.join(desc)\n",
        "\n",
        "\n",
        "def log_accuracy(path_to_csv, desc, acc, sep='\\t', newline='\\n'):\n",
        "    \"\"\"\n",
        "    Logs accuracy into a CSV-file.\n",
        "    \"\"\"\n",
        "    file_exists = os.path.exists(path_to_csv)\n",
        "\n",
        "    mode = 'a'\n",
        "    if not file_exists:\n",
        "        mode += '+'\n",
        "\n",
        "    with open(path_to_csv, mode) as csv:\n",
        "        if not file_exists:\n",
        "            csv.write(f'setup{sep}accuracy{newline}')\n",
        "\n",
        "        csv.write(f'{desc}{sep}{acc}{newline}')"
      ],
      "execution_count": 1,
      "outputs": [
        {
          "output_type": "stream",
          "text": [
            "cuda\n"
          ],
          "name": "stdout"
        }
      ]
    },
    {
      "cell_type": "code",
      "metadata": {
        "id": "qo1CbYHGXRii"
      },
      "source": [
        "import sklearn.metrics as skm"
      ],
      "execution_count": 2,
      "outputs": []
    },
    {
      "cell_type": "code",
      "metadata": {
        "id": "DzdLYbE2SvKF"
      },
      "source": [
        "import time"
      ],
      "execution_count": 3,
      "outputs": []
    },
    {
      "cell_type": "code",
      "metadata": {
        "id": "NSWL8-VoVJFy"
      },
      "source": [
        "import copy"
      ],
      "execution_count": 4,
      "outputs": []
    },
    {
      "cell_type": "markdown",
      "metadata": {
        "id": "r1gyZYCP7NAn"
      },
      "source": [
        "# Dataset import"
      ]
    },
    {
      "cell_type": "code",
      "metadata": {
        "colab": {
          "base_uri": "https://localhost:8080/",
          "height": 0
        },
        "id": "XnfL96zr7MIv",
        "outputId": "9d086e91-7405-4e21-c87a-97346e5abcae"
      },
      "source": [
        "class GoogleDriveDownloader(object):\n",
        "    \"\"\"\n",
        "    Downloading a file stored on Google Drive by its URL.\n",
        "    If the link is pointing to another resource, the redirect chain is being expanded.\n",
        "    Returns the output path.\n",
        "    \"\"\"\n",
        "    \n",
        "    base_url = 'https://docs.google.com/uc?export=download'\n",
        "    chunk_size = 32768\n",
        "    \n",
        "    def __init__(self, url, out_dir):\n",
        "        super().__init__()\n",
        "        \n",
        "        self.out_name = url.rsplit('/', 1)[-1]\n",
        "        self.url = self._get_redirect_url(url)\n",
        "        self.out_dir = out_dir\n",
        "    \n",
        "    @staticmethod\n",
        "    def _get_redirect_url(url):\n",
        "        response = requests.get(url)\n",
        "        if response.url != url and response.url is not None:\n",
        "            redirect_url = response.url\n",
        "            return redirect_url\n",
        "        else:\n",
        "            return url\n",
        "    \n",
        "    @staticmethod\n",
        "    def _get_confirm_token(response):\n",
        "        for key, value in response.cookies.items():\n",
        "            if key.startswith('download_warning'):\n",
        "                return value\n",
        "        return None\n",
        "    \n",
        "    def _save_response_content(self, response):\n",
        "        with open(self.fpath, 'wb') as f:\n",
        "            bar = tqdm.tqdm(total=None)\n",
        "            progress = 0\n",
        "            for chunk in response.iter_content(self.chunk_size):\n",
        "                if chunk:\n",
        "                    f.write(chunk)\n",
        "                    progress += len(chunk)\n",
        "                    bar.update(progress - bar.n)\n",
        "            bar.close()\n",
        "    \n",
        "    @property\n",
        "    def file_id(self):\n",
        "        return self.url.split('?')[0].split('/')[-2]\n",
        "    \n",
        "    @property\n",
        "    def fpath(self):\n",
        "        return os.path.join(self.out_dir, self.out_name)\n",
        "    \n",
        "    def download(self):\n",
        "        os.makedirs(self.out_dir, exist_ok=True)\n",
        "        \n",
        "        if os.path.isfile(self.fpath):\n",
        "            print('File is downloaded yet:', self.fpath)\n",
        "        else:\n",
        "            session = requests.Session()\n",
        "            response = session.get(self.base_url, params={'id': self.file_id}, stream=True)\n",
        "            token = self._get_confirm_token(response)\n",
        "\n",
        "            if token:\n",
        "                response = session.get(self.base_url, params={'id': self.file_id, 'confirm': token}, stream=True)\n",
        "            else:\n",
        "                raise RuntimeError()\n",
        "\n",
        "            self._save_response_content(response)\n",
        "        \n",
        "        return self.fpath\n",
        "\n",
        "\n",
        "# download an archive containing the dataset and store it into the output directory\n",
        "url = 'http://www.vision.caltech.edu/visipedia-data/CUB-200-2011/CUB_200_2011.tgz'\n",
        "dl = GoogleDriveDownloader(url, 'data')\n",
        "dl.download()"
      ],
      "execution_count": 5,
      "outputs": [
        {
          "output_type": "stream",
          "text": [
            "1150585339it [00:05, 229774173.60it/s]\n"
          ],
          "name": "stderr"
        },
        {
          "output_type": "execute_result",
          "data": {
            "application/vnd.google.colaboratory.intrinsic+json": {
              "type": "string"
            },
            "text/plain": [
              "'data/CUB_200_2011.tgz'"
            ]
          },
          "metadata": {
            "tags": []
          },
          "execution_count": 5
        }
      ]
    },
    {
      "cell_type": "code",
      "metadata": {
        "colab": {
          "base_uri": "https://localhost:8080/"
        },
        "id": "5DQWcb0j8ODH",
        "outputId": "72ccc1e1-a482-4393-8e4f-0fb9cdf526ae"
      },
      "source": [
        "def extract_tgz(from_path, to_path=None, img_extention='.jpg'):\n",
        "    \"\"\"\n",
        "    Extracts data from '.tgz' file and displays data statistics.\n",
        "    Returns the output directory name.  \n",
        "    \"\"\"\n",
        "    with tarfile.open(from_path, 'r:gz') as tar:   \n",
        "        \n",
        "        if to_path is None:\n",
        "            out_dir = os.path.splitext(from_path)[0]\n",
        "        if os.path.isdir(out_dir):\n",
        "            print('Files are extracted yet.')\n",
        "        else:\n",
        "            print('Extracting files...')\n",
        "        to_path = os.path.dirname(out_dir)\n",
        "\n",
        "        subdir_and_files = [tarinfo for tarinfo in tar.getmembers()]    \n",
        "        imgs = [t for t in subdir_and_files if t.name.endswith(img_extention)]\n",
        "        print('\\tClasses: {}\\n\\tImages: {}'.format(len(set([os.path.dirname(t.name) for t in imgs])), len(imgs)))\n",
        "\n",
        "        tar.extractall(to_path, members=subdir_and_files)\n",
        "        \n",
        "        return out_dir\n",
        "\n",
        "\n",
        "# extract the downloaded archive & assess data statistics\n",
        "in_dir_data = extract_tgz(from_path=dl.fpath)\n",
        "# if manually uploading:\n",
        "#in_dir_data = extract_tgz(from_path=os.path.join(\"data\", \"CUB_200_2011.tgz\"))"
      ],
      "execution_count": 6,
      "outputs": [
        {
          "output_type": "stream",
          "text": [
            "Extracting files...\n",
            "\tClasses: 200\n",
            "\tImages: 11788\n"
          ],
          "name": "stdout"
        }
      ]
    },
    {
      "cell_type": "code",
      "metadata": {
        "id": "EFKRIh0Y-MFU"
      },
      "source": [
        "in_dir_img = os.path.join(in_dir_data, 'images')"
      ],
      "execution_count": 7,
      "outputs": []
    },
    {
      "cell_type": "markdown",
      "metadata": {
        "id": "nAiGIQ-QHyKm"
      },
      "source": [
        "# Dataset exploration"
      ]
    },
    {
      "cell_type": "markdown",
      "metadata": {
        "id": "Ed9Sjnc58gqN"
      },
      "source": [
        "## Image corruption check"
      ]
    },
    {
      "cell_type": "code",
      "metadata": {
        "colab": {
          "base_uri": "https://localhost:8080/"
        },
        "id": "09gjoJl68kP0",
        "outputId": "c481a056-4252-4399-d1cb-bf7030cd6395"
      },
      "source": [
        "def get_filepaths(path_to_data, fileformat='.jpg'):\n",
        "    \"\"\"\n",
        "    Ruturns paths to files of the specified format.  \n",
        "    \"\"\"             \n",
        "    filepaths = list()\n",
        "    for root, _, finenames in os.walk(path_to_data):\n",
        "        for fn in finenames:\n",
        "            if fn.endswith(fileformat):\n",
        "                filepaths.append(os.path.join(root, fn))\n",
        "                \n",
        "    return filepaths\n",
        "\n",
        "\n",
        "def cleaning_worker(path_to_img):\n",
        "    \"\"\"\n",
        "    Verifies whether the image is corrupted.\n",
        "    \"\"\"\n",
        "    std = np.std(mpimg.imread(path_to_img))\n",
        "    img_ok = not np.isclose(std, 0.0)\n",
        "    \n",
        "    return img_ok, path_to_img\n",
        "\n",
        "\n",
        "# calculate standard deviation of images\n",
        "imgs_corrupted = list()\n",
        "with mp.Pool(processes=mp.cpu_count()) as pool:    \n",
        "    for img_ok, fn in pool.imap_unordered(cleaning_worker, get_filepaths(in_dir_img)):\n",
        "        if not img_ok:\n",
        "            imgs_corrupted.append(fn)\n",
        "\n",
        "# verify do corrupted images (missing data) exist\n",
        "print('Corrupted images #:', len(imgs_corrupted))\n",
        "\n",
        "# clean up the images that aren't OK            \n",
        "# for fn in imgs_corrupted:\n",
        "#    os.remove(fn)"
      ],
      "execution_count": null,
      "outputs": [
        {
          "output_type": "stream",
          "text": [
            "Corrupted images #: 0\n"
          ],
          "name": "stdout"
        }
      ]
    },
    {
      "cell_type": "markdown",
      "metadata": {
        "id": "cINBfsWfha1C"
      },
      "source": [
        "## Similar species"
      ]
    },
    {
      "cell_type": "code",
      "metadata": {
        "id": "P5hcEuf5a5vr"
      },
      "source": [
        "def plot_simmilar_species(s_name):\n",
        "  img_sparrows = dict()\n",
        "  # get all wróble\n",
        "  sparrows_total = [k for k in os.listdir(in_dir_img) if s_name in k.lower()]\n",
        "  print(\"{} species of {} in dataset\".format(len(sparrows_total), s_name))\n",
        "  ####\n",
        "  some_sparrows = sparrows_total[:5]\n",
        "  for dirname in some_sparrows:\n",
        "      imgs = list()\n",
        "      for dp, _, fn in os.walk(os.path.join(in_dir_img, dirname)):\n",
        "          imgs.extend(fn)\n",
        "      img_sparrows[dirname] = imgs\n",
        "  print(some_sparrows)\n",
        "  ###\n",
        "  row_count = 5\n",
        "  column_count = len(some_sparrows)\n",
        "  f, ax = plt.subplots(row_count, column_count, figsize=(20, 12))\n",
        "  f.patch.set_facecolor('white')\n",
        "\n",
        "  for j in range(row_count):\n",
        "    for i in range(column_count):\n",
        "        cls_name = some_sparrows[i]\n",
        "        img_count = len(img_sparrows[cls_name])\n",
        "        img_name = img_sparrows[cls_name][j % img_count]\n",
        "        path_img = os.path.join(os.path.join(in_dir_img, cls_name), img_name)\n",
        "        ax[j,i].imshow(mpimg.imread(path_img))\n",
        "        if j == 0:\n",
        "          ax[j,i].set_title(cls_name.split('.')[-1].replace('_', ' '),  fontsize=15)\n",
        "        plt.tight_layout()\n",
        "    plt.tight_layout()\n",
        "      \n",
        "  plt.show()\n",
        "\n",
        "# plot_simmilar_species('sparrow')\n",
        "# plot_simmilar_species('auklet')\n",
        "# plot_simmilar_species('blackbird')\n",
        "plot_simmilar_species('hummingbird')"
      ],
      "execution_count": null,
      "outputs": []
    },
    {
      "cell_type": "markdown",
      "metadata": {
        "id": "FDhpAkPHhdWj"
      },
      "source": [
        "## Size of images"
      ]
    },
    {
      "cell_type": "code",
      "metadata": {
        "id": "HVVC9uwYhqRB"
      },
      "source": [
        "# calculate image statistics (takes some time to complete)\n",
        "ds = tv.datasets.ImageFolder(in_dir_img)\n",
        "shapes = [(img.height, img.width) for img, _ in ds]\n",
        "heights, widths = [[h for h,_ in shapes], [w for _,w in shapes]]\n",
        "print('Average sizes:', *map(np.median, zip(*shapes)))\n",
        "\n",
        "# visualize the distribution of the size of images\n",
        "fig = plt.figure()\n",
        "ax = fig.add_subplot(111)\n",
        "\n",
        "bp = ax.boxplot([heights, widths], patch_artist=True)\n",
        "\n",
        "ax.set_xticklabels(['height', 'width'])\n",
        "ax.set_xlabel('image sizes')\n",
        "ax.set_ylabel('pixels')\n",
        "\n",
        "plt.show()"
      ],
      "execution_count": null,
      "outputs": []
    },
    {
      "cell_type": "markdown",
      "metadata": {
        "id": "p_QHGKoiklw1"
      },
      "source": [
        "## Average image"
      ]
    },
    {
      "cell_type": "code",
      "metadata": {
        "id": "_MINhJg5klZd"
      },
      "source": [
        "def pad(img, fill=0, size_max=500):\n",
        "    \"\"\"\n",
        "    Pad image to size_max pixels width and height\n",
        "    \"\"\"\n",
        "    pad_height = max(0, size_max - img.shape[1])\n",
        "    pad_width = max(0, size_max - img.shape[2])\n",
        "    \n",
        "    pad_top = pad_height // 2\n",
        "    pad_bottom = pad_height - pad_top\n",
        "    pad_left = pad_width // 2\n",
        "    pad_right = pad_width - pad_left\n",
        "    \n",
        "    return TF.pad(img, (pad_left, pad_top, pad_right, pad_bottom), fill=fill)\n",
        "\n",
        "\n",
        "ds = tv.datasets.ImageFolder(in_dir_img, transform=tv.transforms.ToTensor())\n",
        "\n",
        "# average image\n",
        "img_mean = np.zeros((3, 500, 500))\n",
        "for img, _ in tqdm.tqdm(ds):\n",
        "    img = pad(img)\n",
        "    img_mean += img.numpy()\n",
        "\n",
        "img_mean = img_mean / len(ds)\n",
        "\n",
        "# plot average image  \n",
        "plt.imshow(np.moveaxis(img_mean, 0, 2))\n",
        "plt.show()"
      ],
      "execution_count": null,
      "outputs": []
    },
    {
      "cell_type": "markdown",
      "metadata": {
        "id": "2ITe8gQeMuar"
      },
      "source": [
        "# Data preparation"
      ]
    },
    {
      "cell_type": "markdown",
      "metadata": {
        "id": "Yqo_j9vIRkna"
      },
      "source": [
        "## Data loader"
      ]
    },
    {
      "cell_type": "code",
      "metadata": {
        "id": "ciWGDZscM0vq"
      },
      "source": [
        "class DatasetBirds(tv.datasets.ImageFolder):\n",
        "    \"\"\"\n",
        "    Wrapper for the CUB-200-2011 dataset. \n",
        "    Method DatasetBirds.__getitem__() returns tuple of image and its corresponding label.    \n",
        "    \"\"\"\n",
        "    def __init__(self,\n",
        "                 root,\n",
        "                 transform=None,\n",
        "                 target_transform=None,\n",
        "                 loader=tv.datasets.folder.default_loader,\n",
        "                 is_valid_file=None,\n",
        "                 train=True,\n",
        "                 bboxes=False):\n",
        "\n",
        "        img_root = os.path.join(root, 'images')\n",
        "\n",
        "        super(DatasetBirds, self).__init__(\n",
        "            root=img_root,\n",
        "            transform=None,\n",
        "            target_transform=None,\n",
        "            loader=loader,\n",
        "            is_valid_file=is_valid_file,\n",
        "        )\n",
        "\n",
        "        self.transform_ = transform\n",
        "        self.target_transform_ = target_transform\n",
        "        self.train = train\n",
        "        \n",
        "        # obtain sample ids filtered by split\n",
        "        path_to_splits = os.path.join(root, 'train_test_split.txt')\n",
        "        indices_to_use = list()\n",
        "        with open(path_to_splits, 'r') as in_file:\n",
        "            for line in in_file:\n",
        "                idx, use_train = line.strip('\\n').split(' ', 2)\n",
        "                if bool(int(use_train)) == self.train:\n",
        "                    indices_to_use.append(int(idx))\n",
        "\n",
        "        # obtain filenames of images\n",
        "        path_to_index = os.path.join(root, 'images.txt')\n",
        "        filenames_to_use = set()\n",
        "        with open(path_to_index, 'r') as in_file:\n",
        "            for line in in_file:\n",
        "                idx, fn = line.strip('\\n').split(' ', 2)\n",
        "                if int(idx) in indices_to_use:\n",
        "                    filenames_to_use.add(fn)\n",
        "\n",
        "        img_paths_cut = {'/'.join(img_path.rsplit('/', 2)[-2:]): idx for idx, (img_path, lb) in enumerate(self.imgs)}\n",
        "        imgs_to_use = [self.imgs[img_paths_cut[fn]] for fn in filenames_to_use]\n",
        "\n",
        "        _, targets_to_use = list(zip(*imgs_to_use))\n",
        "\n",
        "        self.imgs = self.samples = imgs_to_use\n",
        "        self.targets = targets_to_use\n",
        "\n",
        "        if bboxes:\n",
        "            # get coordinates of a bounding box\n",
        "            path_to_bboxes = os.path.join(root, 'bounding_boxes.txt')\n",
        "            bounding_boxes = list()\n",
        "            with open(path_to_bboxes, 'r') as in_file:\n",
        "                for line in in_file:\n",
        "                    idx, x, y, w, h = map(lambda x: float(x), line.strip('\\n').split(' '))\n",
        "                    if int(idx) in indices_to_use:\n",
        "                        bounding_boxes.append((x, y, w, h))\n",
        "\n",
        "            self.bboxes = bounding_boxes\n",
        "        else:\n",
        "            self.bboxes = None\n",
        "\n",
        "    def __getitem__(self, index):\n",
        "        # generate one sample\n",
        "        sample, target = super(DatasetBirds, self).__getitem__(index)\n",
        "\n",
        "        if self.bboxes is not None:\n",
        "            # squeeze coordinates of the bounding box to range [0, 1]\n",
        "            width, height = sample.width, sample.height\n",
        "            x, y, w, h = self.bboxes[index]\n",
        "\n",
        "            scale_resize = 500 / width\n",
        "            scale_resize_crop = scale_resize * (375 / 500)\n",
        "\n",
        "            x_rel = scale_resize_crop * x / 375\n",
        "            y_rel = scale_resize_crop * y / 375\n",
        "            w_rel = scale_resize_crop * w / 375\n",
        "            h_rel = scale_resize_crop * h / 375\n",
        "\n",
        "            target = torch.tensor([target, x_rel, y_rel, w_rel, h_rel])\n",
        "\n",
        "        if self.transform_ is not None:\n",
        "            sample = self.transform_(sample)\n",
        "        if self.target_transform_ is not None:\n",
        "            target = self.target_transform_(target)\n",
        "\n",
        "        return sample, target"
      ],
      "execution_count": 8,
      "outputs": []
    },
    {
      "cell_type": "markdown",
      "metadata": {
        "id": "EQRbxb4lRoQZ"
      },
      "source": [
        "## Data transforming"
      ]
    },
    {
      "cell_type": "code",
      "metadata": {
        "id": "om0b13jRRASy"
      },
      "source": [
        "\n",
        "# fill padded area with ImageNet's mean pixel value converted to range [0, 255]\n",
        "fill = tuple(map(lambda x: int(round(x * 256)), (0.485, 0.456, 0.406)))\n",
        "# pad images to 500 pixels\n",
        "max_padding = tv.transforms.Lambda(lambda x: pad(x, fill=fill))"
      ],
      "execution_count": 9,
      "outputs": []
    },
    {
      "cell_type": "code",
      "metadata": {
        "id": "vQvOXSCNRtyx"
      },
      "source": [
        "# fill padded area with ImageNet's mean pixel value converted to range [0, 255]\n",
        "fill = tuple(map(lambda x: int(round(x * 256)), (0.485, 0.456, 0.406)))\n",
        "\n",
        "# transform images\n",
        "transforms_train = tv.transforms.Compose([\n",
        "   max_padding,\n",
        "   tv.transforms.RandomOrder([\n",
        "       tv.transforms.RandomCrop((375, 375)),\n",
        "       tv.transforms.RandomHorizontalFlip(),\n",
        "       tv.transforms.RandomVerticalFlip()\n",
        "   ]),\n",
        "   tv.transforms.ToTensor(),\n",
        "   tv.transforms.Normalize([0.485, 0.456, 0.406], [0.229, 0.224, 0.225])\n",
        "])\n",
        "transforms_eval = tv.transforms.Compose([\n",
        "   max_padding,\n",
        "   tv.transforms.CenterCrop((375, 375)),\n",
        "   tv.transforms.ToTensor(),\n",
        "   tv.transforms.Normalize([0.485, 0.456, 0.406], [0.229, 0.224, 0.225])\n",
        "])"
      ],
      "execution_count": 10,
      "outputs": []
    },
    {
      "cell_type": "markdown",
      "metadata": {
        "id": "f0hnfYxhR_wR"
      },
      "source": [
        "## Data splitting"
      ]
    },
    {
      "cell_type": "code",
      "metadata": {
        "id": "JGvZYFnFSCwq"
      },
      "source": [
        "# instantiate dataset objects according to the pre-defined splits\n",
        "ds_train = DatasetBirds(in_dir_data, transform=transforms_train, train=True)\n",
        "ds_val = DatasetBirds(in_dir_data, transform=transforms_eval, train=True)\n",
        "ds_test = DatasetBirds(in_dir_data, transform=transforms_eval, train=False)\n",
        "\n",
        "splits = skms.StratifiedShuffleSplit(n_splits=1, test_size=0.1, random_state=RANDOM_SEED)\n",
        "idx_train, idx_val = next(splits.split(np.zeros(len(ds_train)), ds_train.targets))"
      ],
      "execution_count": 11,
      "outputs": []
    },
    {
      "cell_type": "markdown",
      "metadata": {
        "id": "zJgD3-r6SJ3Z"
      },
      "source": [
        "## Data loader object"
      ]
    },
    {
      "cell_type": "code",
      "metadata": {
        "id": "099lzIFBUUHq"
      },
      "source": [
        "# set hyper-parameters\n",
        "params = {'batch_size': 24, 'num_workers': 2}\n",
        "num_epochs = 100\n",
        "num_classes = 200"
      ],
      "execution_count": 12,
      "outputs": []
    },
    {
      "cell_type": "code",
      "metadata": {
        "id": "sfsv-SeQSMqi"
      },
      "source": [
        "# instantiate data loaders\n",
        "train_loader = td.DataLoader(\n",
        "   dataset=ds_train,\n",
        "   sampler=td.SubsetRandomSampler(idx_train),\n",
        "   **params\n",
        ")\n",
        "val_loader = td.DataLoader(\n",
        "   dataset=ds_val,\n",
        "   sampler=td.SubsetRandomSampler(idx_val),\n",
        "   **params\n",
        ")\n",
        "test_loader = td.DataLoader(dataset=ds_test, **params)"
      ],
      "execution_count": 13,
      "outputs": []
    },
    {
      "cell_type": "markdown",
      "metadata": {
        "id": "jLQO04dqsgdy"
      },
      "source": [
        "# Visualization of transformations"
      ]
    },
    {
      "cell_type": "code",
      "metadata": {
        "id": "8WSjRAVju4tj"
      },
      "source": [
        "dataiter = iter(train_loader)\n",
        "images, labels = dataiter.next()"
      ],
      "execution_count": null,
      "outputs": []
    },
    {
      "cell_type": "code",
      "metadata": {
        "colab": {
          "base_uri": "https://localhost:8080/"
        },
        "id": "Ms7Y0wHYvujq",
        "outputId": "c190d3d1-18e5-43ed-d0f6-0130c7d5d8a1"
      },
      "source": [
        "torch.max(images)"
      ],
      "execution_count": null,
      "outputs": [
        {
          "output_type": "execute_result",
          "data": {
            "text/plain": [
              "tensor(2.6400)"
            ]
          },
          "metadata": {
            "tags": []
          },
          "execution_count": 71
        }
      ]
    },
    {
      "cell_type": "code",
      "metadata": {
        "colab": {
          "base_uri": "https://localhost:8080/",
          "height": 286
        },
        "id": "QP35yGktw-BS",
        "outputId": "0e45402d-fc1a-4a4b-cedd-32b46830293d"
      },
      "source": [
        "img = images[8] / 2 + 0.5\n",
        "plt.imshow(img.permute(1, 2, 0))\n",
        "plt.show()"
      ],
      "execution_count": null,
      "outputs": [
        {
          "output_type": "stream",
          "text": [
            "Clipping input data to the valid range for imshow with RGB data ([0..1] for floats or [0..255] for integers).\n"
          ],
          "name": "stderr"
        },
        {
          "output_type": "display_data",
          "data": {
            "image/png": "[encoded data removed]",
            "text/plain": [
              "<Figure size 432x288 with 1 Axes>"
            ]
          },
          "metadata": {
            "tags": [],
            "needs_background": "light"
          }
        }
      ]
    },
    {
      "cell_type": "markdown",
      "metadata": {
        "id": "PHredBGlTGBa"
      },
      "source": [
        "# Model building and evaluation"
      ]
    },
    {
      "cell_type": "markdown",
      "metadata": {
        "id": "9_5trxl7TdL7"
      },
      "source": [
        "## Model"
      ]
    },
    {
      "cell_type": "code",
      "metadata": {
        "id": "eJLrmW1jTJmi"
      },
      "source": [
        "# instantiate the model\n",
        "model = tv.models.resnet50(num_classes=num_classes).to(DEVICE)\n",
        "# model = tv.models.densenet121(num_classes=num_classes).to(DEVICE)\n",
        "# model"
      ],
      "execution_count": 14,
      "outputs": []
    },
    {
      "cell_type": "markdown",
      "metadata": {
        "id": "YBJjZ_83TfjS"
      },
      "source": [
        "## Training"
      ]
    },
    {
      "cell_type": "code",
      "metadata": {
        "id": "y8hY-OMoThNp"
      },
      "source": [
        "optimizer = torch.optim.Adam(model.parameters(), lr=1e-3)\n",
        "scheduler = torch.optim.lr_scheduler.ExponentialLR(optimizer, gamma=0.95)"
      ],
      "execution_count": 15,
      "outputs": []
    },
    {
      "cell_type": "code",
      "metadata": {
        "id": "NtA3_cwqVXWx"
      },
      "source": [
        "def pad(img, fill=0, size_max=500):\n",
        "    pad_height = max(0, size_max - img.height)\n",
        "    pad_width = max(0, size_max - img.width)\n",
        "    \n",
        "    pad_top = pad_height // 2\n",
        "    pad_bottom = pad_height - pad_top\n",
        "    pad_left = pad_width // 2\n",
        "    pad_right = pad_width - pad_left\n",
        "    \n",
        "    return TF.pad(img, (pad_left, pad_top, pad_right, pad_bottom), fill=fill)"
      ],
      "execution_count": 16,
      "outputs": []
    },
    {
      "cell_type": "code",
      "metadata": {
        "id": "7WlGQlc-V9Y6"
      },
      "source": [
        "dataloaders_dict = {'train': train_loader, 'val': val_loader}"
      ],
      "execution_count": 17,
      "outputs": []
    },
    {
      "cell_type": "code",
      "metadata": {
        "id": "nla0AuLA-WbP"
      },
      "source": [
        "def train_model(model, dataloaders, optimizer, scheduler, num_epochs):\n",
        "  model_history = {\n",
        "      'train' : { 'loss': [], 'acc': []},\n",
        "      'val' : { 'loss': [], 'acc': []}\n",
        "  }\n",
        "\n",
        "  best_model_wts = copy.deepcopy(model.state_dict())\n",
        "  best_acc = 0.0\n",
        "\n",
        "  for epoch in range(num_epochs):\n",
        "    since = time.time()\n",
        "    print('Epoch {}/{}'.format(epoch, num_epochs - 1))\n",
        "    print('-' * 10)\n",
        "\n",
        "    running_loss = []\n",
        "    running_accuracy = []\n",
        "\n",
        "    for phase in ['train', 'val']:\n",
        "      if phase == 'train':\n",
        "          model.train()  # Set model to training mode\n",
        "      else:\n",
        "          model.eval()   # Set model to evaluate mode\n",
        "\n",
        "      # inputs = x, labels = y\n",
        "      for inputs, labels in dataloaders[phase]:\n",
        "        inputs = inputs.to(DEVICE)\n",
        "        labels = labels.to(DEVICE)\n",
        "        \n",
        "        # zero the parameter gradients\n",
        "        optimizer.zero_grad()\n",
        "\n",
        "        with torch.set_grad_enabled(phase == 'train'):\n",
        "          # predict bird species\n",
        "          predicted_labels = model(inputs)\n",
        "          \n",
        "          # calculate the loss\n",
        "          loss = F.cross_entropy(predicted_labels, labels)\n",
        "\n",
        "          # calculate the accuracy\n",
        "          acc = skm.accuracy_score([val.item() for val in labels], [val.item() for val in predicted_labels.argmax(dim=-1)])\n",
        "          \n",
        "          if phase == 'train':\n",
        "            # backprop & update weights \n",
        "            loss.backward()\n",
        "            optimizer.step()\n",
        "\n",
        "        running_loss.append(loss.item())\n",
        "        running_accuracy.append(acc)\n",
        "\n",
        "      epoch_loss = np.mean(running_loss)\n",
        "      epoch_acc = np.mean(running_accuracy)\n",
        "      if phase == 'train':\n",
        "        model_history['train']['loss'].append(epoch_loss)\n",
        "        model_history['train']['acc'].append(epoch_acc)\n",
        "      else:\n",
        "        model_history['val']['loss'].append(epoch_loss)\n",
        "        model_history['val']['acc'].append(epoch_acc)\n",
        "\n",
        "      if phase == 'val' and epoch_acc > best_acc:\n",
        "        best_acc = epoch_acc\n",
        "        best_model_wts = copy.deepcopy(model.state_dict())\n",
        "\n",
        "      time_elapsed = time.time() - since\n",
        "      print('{} Loss: {:.4f} Acc: {:.4f} Time: {:.0f}m{:.0f}s'.format(phase, epoch_loss, epoch_acc, time_elapsed // 60, time_elapsed % 60))\n",
        "\n",
        "    print()\n",
        "    # adjust the learning rate\n",
        "    scheduler.step()\n",
        "\n",
        "  print('Finished. Best val Acc: {:4f}'.format(best_acc))\n",
        "  # load best model weights\n",
        "  model.load_state_dict(best_model_wts)\n",
        "  return model, model_history"
      ],
      "execution_count": 18,
      "outputs": []
    },
    {
      "cell_type": "code",
      "metadata": {
        "id": "m8DF4XI3NHC9",
        "colab": {
          "base_uri": "https://localhost:8080/"
        },
        "outputId": "7c40d874-2d38-44bd-f60b-fd2249991449"
      },
      "source": [
        "# uruchomić tą funkcję na górze z jakimś modelem z odpowienimi parametrami\n",
        "model, model_history = train_model(model, dataloaders_dict, optimizer, scheduler, num_epochs=50)"
      ],
      "execution_count": null,
      "outputs": [
        {
          "output_type": "stream",
          "text": [
            "Epoch 0/49\n",
            "----------\n",
            "train Loss: 5.3865 Acc: 0.0061 Time: 2m42s\n",
            "val Loss: 5.3632 Acc: 0.0067 Time: 2m48s\n",
            "\n",
            "Epoch 1/49\n",
            "----------\n",
            "train Loss: 5.1200 Acc: 0.0117 Time: 2m43s\n",
            "val Loss: 5.1219 Acc: 0.0118 Time: 2m50s\n",
            "\n",
            "Epoch 2/49\n",
            "----------\n",
            "train Loss: 5.0092 Acc: 0.0135 Time: 2m43s\n",
            "val Loss: 5.0062 Acc: 0.0133 Time: 2m49s\n",
            "\n",
            "Epoch 3/49\n",
            "----------\n",
            "train Loss: 4.9107 Acc: 0.0209 Time: 2m43s\n",
            "val Loss: 4.9088 Acc: 0.0210 Time: 2m49s\n",
            "\n",
            "Epoch 4/49\n",
            "----------\n",
            "train Loss: 4.8025 Acc: 0.0278 Time: 2m43s\n",
            "val Loss: 4.8059 Acc: 0.0267 Time: 2m49s\n",
            "\n",
            "Epoch 5/49\n",
            "----------\n",
            "train Loss: 4.6754 Acc: 0.0346 Time: 2m43s\n",
            "val Loss: 4.7077 Acc: 0.0338 Time: 2m49s\n",
            "\n",
            "Epoch 6/49\n",
            "----------\n",
            "train Loss: 4.5586 Acc: 0.0406 Time: 2m43s\n",
            "val Loss: 4.6059 Acc: 0.0409 Time: 2m49s\n",
            "\n",
            "Epoch 7/49\n",
            "----------\n",
            "train Loss: 4.4423 Acc: 0.0600 Time: 2m43s\n",
            "val Loss: 4.4526 Acc: 0.0610 Time: 2m50s\n",
            "\n",
            "Epoch 8/49\n",
            "----------\n",
            "train Loss: 4.3314 Acc: 0.0604 Time: 2m43s\n",
            "val Loss: 4.3646 Acc: 0.0595 Time: 2m50s\n",
            "\n",
            "Epoch 9/49\n",
            "----------\n",
            "train Loss: 4.2545 Acc: 0.0759 Time: 2m43s\n",
            "val Loss: 4.2803 Acc: 0.0738 Time: 2m50s\n",
            "\n",
            "Epoch 10/49\n",
            "----------\n",
            "train Loss: 4.1744 Acc: 0.0806 Time: 2m43s\n",
            "val Loss: 4.1928 Acc: 0.0804 Time: 2m50s\n",
            "\n",
            "Epoch 11/49\n",
            "----------\n",
            "train Loss: 4.0694 Acc: 0.0962 Time: 2m43s\n",
            "val Loss: 4.0870 Acc: 0.0962 Time: 2m50s\n",
            "\n",
            "Epoch 12/49\n",
            "----------\n",
            "train Loss: 3.9749 Acc: 0.1065 Time: 2m43s\n",
            "val Loss: 4.0031 Acc: 0.1051 Time: 2m50s\n",
            "\n",
            "Epoch 13/49\n",
            "----------\n",
            "train Loss: 3.8791 Acc: 0.1158 Time: 2m43s\n",
            "val Loss: 3.9150 Acc: 0.1141 Time: 2m50s\n",
            "\n",
            "Epoch 14/49\n",
            "----------\n",
            "train Loss: 3.7831 Acc: 0.1330 Time: 2m43s\n",
            "val Loss: 3.8214 Acc: 0.1310 Time: 2m50s\n",
            "\n",
            "Epoch 15/49\n",
            "----------\n",
            "train Loss: 3.7040 Acc: 0.1460 Time: 2m43s\n",
            "val Loss: 3.7398 Acc: 0.1426 Time: 2m50s\n",
            "\n",
            "Epoch 16/49\n",
            "----------\n",
            "train Loss: 3.6120 Acc: 0.1554 Time: 2m43s\n",
            "val Loss: 3.6677 Acc: 0.1501 Time: 2m50s\n",
            "\n",
            "Epoch 17/49\n",
            "----------\n",
            "train Loss: 3.5298 Acc: 0.1752 Time: 2m43s\n",
            "val Loss: 3.5745 Acc: 0.1715 Time: 2m50s\n",
            "\n",
            "Epoch 18/49\n",
            "----------\n"
          ],
          "name": "stdout"
        }
      ]
    },
    {
      "cell_type": "code",
      "metadata": {
        "id": "DLXrv9WTSfS2"
      },
      "source": [
        "# pytorch function\n",
        "def train_model(model, dataloaders, criterion, optimizer, num_epochs=25, is_inception=False):\n",
        "    since = time.time()\n",
        "\n",
        "    val_acc_history = []\n",
        "    val_loss_history = []\n",
        "\n",
        "    best_model_wts = copy.deepcopy(model.state_dict())\n",
        "    best_acc = 0.0\n",
        "\n",
        "    for epoch in range(num_epochs):\n",
        "        print('Epoch {}/{}'.format(epoch, num_epochs - 1))\n",
        "        print('-' * 10)\n",
        "\n",
        "        # Each epoch has a training and validation phase\n",
        "        for phase in ['train', 'val']:\n",
        "            if phase == 'train':\n",
        "                model.train()  # Set model to training mode\n",
        "            else:\n",
        "                model.eval()   # Set model to evaluate mode\n",
        "\n",
        "            running_loss = 0.0\n",
        "            running_corrects = 0\n",
        "\n",
        "            # Iterate over data.\n",
        "            for inputs, labels in dataloaders[phase]:\n",
        "                inputs = inputs.to(device)\n",
        "                labels = labels.to(device)\n",
        "\n",
        "                # zero the parameter gradients\n",
        "                optimizer.zero_grad()\n",
        "\n",
        "                # forward\n",
        "                # track history if only in train\n",
        "                with torch.set_grad_enabled(phase == 'train'):\n",
        "                    # Get model outputs and calculate loss\n",
        "                    # Special case for inception because in training it has an auxiliary output. In train\n",
        "                    #   mode we calculate the loss by summing the final output and the auxiliary output\n",
        "                    #   but in testing we only consider the final output.\n",
        "                    if is_inception and phase == 'train':\n",
        "                        # From https://discuss.pytorch.org/t/how-to-optimize-inception-model-with-auxiliary-classifiers/7958\n",
        "                        outputs, aux_outputs = model(inputs)\n",
        "                        loss1 = criterion(outputs, labels)\n",
        "                        loss2 = criterion(aux_outputs, labels)\n",
        "                        loss = loss1 + 0.4*loss2\n",
        "                    else:\n",
        "                        outputs = model(inputs)\n",
        "                        loss = criterion(outputs, labels)\n",
        "\n",
        "                    _, preds = torch.max(outputs, 1)\n",
        "\n",
        "                    # backward + optimize only if in training phase\n",
        "                    if phase == 'train':\n",
        "                        loss.backward()\n",
        "                        optimizer.step()\n",
        "\n",
        "                # statistics\n",
        "                running_loss += loss.item() * inputs.size(0)\n",
        "                running_corrects += torch.sum(preds == labels.data)\n",
        "\n",
        "            epoch_loss = running_loss / len(dataloaders[phase].dataset)\n",
        "            epoch_acc = running_corrects.double() / len(dataloaders[phase].dataset)\n",
        "\n",
        "            print('{} Loss: {:.4f} Acc: {:.4f}'.format(phase, epoch_loss, epoch_acc))\n",
        "\n",
        "            # deep copy the model\n",
        "            if phase == 'val' and epoch_acc > best_acc:\n",
        "                best_acc = epoch_acc\n",
        "                best_model_wts = copy.deepcopy(model.state_dict())\n",
        "            if phase == 'val':\n",
        "                val_acc_history.append(epoch_acc)\n",
        "\n",
        "        print()\n",
        "\n",
        "    time_elapsed = time.time() - since\n",
        "    print('Training complete in {:.0f}m {:.0f}s'.format(time_elapsed // 60, time_elapsed % 60))\n",
        "    print('Best val Acc: {:4f}'.format(best_acc))\n",
        "\n",
        "    # load best model weights\n",
        "    model.load_state_dict(best_model_wts)\n",
        "    return model, val_acc_history"
      ],
      "execution_count": null,
      "outputs": []
    },
    {
      "cell_type": "code",
      "metadata": {
        "id": "edZgDsTvTsUJ"
      },
      "source": [
        "# generate model description string\n",
        "model_desc = get_model_desc(num_classes=num_classes)\n",
        "\n",
        "# define the training loop\n",
        "best_snapshot_path = None\n",
        "val_acc_avg = list()\n",
        "best_val_acc = -1.0\n",
        "\n",
        "for epoch in range(num_epochs):\n",
        "    \n",
        "    # train the model\n",
        "    model.train()\n",
        "    train_loss = list()\n",
        "    for batch in train_loader:\n",
        "        x, y = batch\n",
        "        \n",
        "        x = x.to(DEVICE)\n",
        "        y = y.to(DEVICE)\n",
        "        \n",
        "        optimizer.zero_grad()\n",
        "        \n",
        "        # predict bird species\n",
        "        y_pred = model(x)\n",
        "        \n",
        "        # calculate the loss\n",
        "        loss = F.cross_entropy(y_pred, y)\n",
        "        \n",
        "        # backprop & update weights \n",
        "        loss.backward()\n",
        "        optimizer.step()\n",
        "\n",
        "        train_loss.append(loss.item())\n",
        "        \n",
        "    # validate the model\n",
        "    model.eval()\n",
        "    val_loss = list()\n",
        "    val_acc = list()\n",
        "    with torch.no_grad():\n",
        "        for batch in val_loader:\n",
        "            x, y = batch\n",
        "\n",
        "            x = x.to(DEVICE)\n",
        "            y = y.to(DEVICE)\n",
        "\n",
        "            # predict bird species\n",
        "            y_pred = model(x)\n",
        "\n",
        "            # calculate the loss\n",
        "            loss = F.cross_entropy(y_pred, y)\n",
        "            \n",
        "            # calculate the accuracy\n",
        "            acc = skm.accuracy_score([val.item() for val in y], [val.item() for val in y_pred.argmax(dim=-1)])\n",
        "\n",
        "            val_loss.append(loss.item())\n",
        "            val_acc.append(acc)\n",
        "\n",
        "        val_acc_avg.append(np.mean(val_acc))\n",
        "            \n",
        "        # save the best model snapshot\n",
        "        current_val_acc = val_acc_avg[-1]\n",
        "        if current_val_acc > best_val_acc:\n",
        "            if best_snapshot_path is not None:\n",
        "                os.remove(best_snapshot_path)\n",
        "\n",
        "            best_val_acc = current_val_acc\n",
        "            best_snapshot_path = os.path.join(OUT_DIR, f'model_{model_desc}_ep={epoch}_acc={best_val_acc}.pt')\n",
        "\n",
        "            torch.save(model.state_dict(), best_snapshot_path)\n",
        "    \n",
        "    # adjust the learning rate\n",
        "    scheduler.step()\n",
        "\n",
        "    # print performance metrics\n",
        "    print('Epoch {} |> Train. loss: {:.4f} | Val. loss: {:.4f}'.format(\n",
        "        epoch + 1, np.mean(train_loss), np.mean(val_loss))\n",
        "    )"
      ],
      "execution_count": null,
      "outputs": []
    },
    {
      "cell_type": "markdown",
      "metadata": {
        "id": "U90VjkjwTzOx"
      },
      "source": [
        "## Evaluation"
      ]
    },
    {
      "cell_type": "code",
      "metadata": {
        "id": "phxQwqfVT0fJ",
        "colab": {
          "base_uri": "https://localhost:8080/"
        },
        "outputId": "de0620ef-edb0-464d-b5d6-6ee594b025b2"
      },
      "source": [
        "# load snapshot of the best model\n",
        "model.load_state_dict(torch.load(best_snapshot_path, map_location=DEVICE))\n",
        "        \n",
        "# test the model\n",
        "true = list()\n",
        "pred = list()\n",
        "with torch.no_grad():\n",
        "    for batch in test_loader:\n",
        "        x, y = batch\n",
        "\n",
        "        x = x.to(DEVICE)\n",
        "        y = y.to(DEVICE)\n",
        "\n",
        "        # predict bird species\n",
        "        y_pred = model(x)\n",
        "\n",
        "        true.extend([val.item() for val in y])\n",
        "        pred.extend([val.item() for val in y_pred.argmax(dim=-1)])\n",
        "\n",
        "# calculate the accuracy \n",
        "test_accuracy = skm.accuracy_score(true, pred)\n",
        "print('Test accuracy: {:.3f}'.format(test_accuracy))"
      ],
      "execution_count": null,
      "outputs": [
        {
          "output_type": "stream",
          "text": [
            "Test accuracy: 0.312\n"
          ],
          "name": "stdout"
        }
      ]
    },
    {
      "cell_type": "code",
      "metadata": {
        "id": "caW2JtoisfwJ"
      },
      "source": [
        "# save the accuracy\n",
        "path_to_logs = f'{OUT_DIR}/logs.csv'\n",
        "log_accuracy(path_to_logs, model_desc, test_accuracy)"
      ],
      "execution_count": null,
      "outputs": []
    },
    {
      "cell_type": "markdown",
      "metadata": {
        "id": "uzevBm___73x"
      },
      "source": [
        "# Testing"
      ]
    },
    {
      "cell_type": "code",
      "metadata": {
        "id": "KAYFbGS1_94a"
      },
      "source": [
        "sorted(os.listdir(in_dir_img))"
      ],
      "execution_count": null,
      "outputs": []
    },
    {
      "cell_type": "code",
      "metadata": {
        "id": "RF1RdVrs3JbZ"
      },
      "source": [
        "val_loss\n",
        "# val_acc_avg"
      ],
      "execution_count": null,
      "outputs": []
    },
    {
      "cell_type": "code",
      "metadata": {
        "id": "KaHRNHNIAsI5"
      },
      "source": [
        ""
      ],
      "execution_count": null,
      "outputs": []
    }
  ]
}